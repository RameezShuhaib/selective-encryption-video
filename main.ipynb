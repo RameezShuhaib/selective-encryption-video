{
 "cells": [
  {
   "cell_type": "code",
   "execution_count": 1,
   "metadata": {
    "collapsed": true
   },
   "outputs": [],
   "source": [
    "import tkinter\n",
    "import numpy as np\n",
    "import cv2\n",
    "from PIL import Image\n",
    "from PIL import ImageTk\n",
    "from Crypto.Cipher import AES\n",
    "import copy\n",
    "import threading\n",
    "import time"
   ]
  },
  {
   "cell_type": "code",
   "execution_count": 2,
   "metadata": {
    "collapsed": true
   },
   "outputs": [],
   "source": [
    "clickCount = 0\n",
    "point = [(0, 0), (0, 0)]\n",
    "done = False"
   ]
  },
  {
   "cell_type": "code",
   "execution_count": 3,
   "metadata": {
    "collapsed": true
   },
   "outputs": [],
   "source": [
    "key = AES.new('This is a key123', AES.MODE_CBC, 'This is an IV456')"
   ]
  },
  {
   "cell_type": "code",
   "execution_count": 4,
   "metadata": {
    "collapsed": true
   },
   "outputs": [],
   "source": [
    "window = tkinter.Tk()\n",
    "canvas = tkinter.Canvas(window, width=600, height=600)\n",
    "codmov = tkinter.Label(window, text = '0 0')\n",
    "codclick = tkinter.Label(window, text = '0 0')\n",
    "codstatus = tkinter.Label(window, text = '[(0, 0), (0, 0)]')\n",
    "\n",
    "canvas.pack()\n",
    "codmov.pack()\n",
    "codclick.pack()\n",
    "codstatus.pack()"
   ]
  },
  {
   "cell_type": "code",
   "execution_count": 5,
   "metadata": {},
   "outputs": [
    {
     "data": {
      "text/plain": [
       "'1736833308616motion'"
      ]
     },
     "execution_count": 5,
     "metadata": {},
     "output_type": "execute_result"
    }
   ],
   "source": [
    "def encryptFrame(frame):\n",
    "    x0, y0 = point[0]\n",
    "    x1, y1 = point[1]\n",
    "#     enc = frame[y0:y1, x0:x1, :].reshape([-1])\n",
    "#     enc = np.concatenate([enc, np.zeros(len(enc)%16)])\n",
    "#     enc = key.encrypt(enc)\n",
    "    frame[y0:y1, x0:x1, :] = frame[y0:y1, x0:x1, :]\n",
    "#     frame[y0:y1, x0:x1, :] = 0\n",
    "    return frame\n",
    "\n",
    "    \n",
    "\n",
    "def motion(event):\n",
    "    global mouseX, mouseY\n",
    "    mouseX, mouseY = event.x, event.y\n",
    "    codmov.config(text = str(mouseX)+' '+ str(mouseY))\n",
    "    \n",
    "def mouseClick(event):\n",
    "    global clickX, clickY, clickCount, point, done\n",
    "    clickX, clickY = event.x, event.y\n",
    "    if clickCount < 2:\n",
    "        point[clickCount] = (clickX, clickY)\n",
    "    else:\n",
    "        point = [(0, 0), (0, 0)]\n",
    "        done = False\n",
    "        \n",
    "    if clickCount == 1:\n",
    "        done = True\n",
    "        codstatus.config(text = str(point)+' Point Selected')\n",
    "    else:\n",
    "        done = False\n",
    "        codstatus.config(text = str(point))\n",
    "    \n",
    "    codclick.config(text = str(clickX)+' '+ str(clickY))\n",
    "    clickCount = (clickCount+1) % 3\n",
    "\n",
    "canvas.bind(\"<Button-1>\", mouseClick)\n",
    "canvas.bind('<Motion>', motion)"
   ]
  },
  {
   "cell_type": "code",
   "execution_count": 6,
   "metadata": {
    "collapsed": true
   },
   "outputs": [],
   "source": [
    "vc = cv2.VideoCapture(0)\n",
    "\n",
    "if vc.isOpened():\n",
    "    is_capturing, frame = vc.read()\n",
    "    frame = cv2.cvtColor(frame, cv2.COLOR_BGR2RGB)\n",
    "else:\n",
    "    is_capturing = False"
   ]
  },
  {
   "cell_type": "code",
   "execution_count": 7,
   "metadata": {
    "collapsed": true
   },
   "outputs": [],
   "source": [
    "def convertToImg(frame):\n",
    "    img = Image.fromarray(frame)\n",
    "    img = ImageTk.PhotoImage(img)\n",
    "    return img"
   ]
  },
  {
   "cell_type": "code",
   "execution_count": 8,
   "metadata": {
    "collapsed": true
   },
   "outputs": [],
   "source": [
    "current_image = canvas.create_image((0, 0), anchor = tkinter.NW)"
   ]
  },
  {
   "cell_type": "code",
   "execution_count": 9,
   "metadata": {
    "collapsed": true
   },
   "outputs": [],
   "source": [
    "def updateImg():\n",
    "    global current_image, canvas, is_capturing, frame, img, done\n",
    "    is_capturing, frame = vc.read()\n",
    "    frame = cv2.cvtColor(frame, cv2.COLOR_BGR2RGB)\n",
    "    if done:\n",
    "        frame = encryptFrame(frame)\n",
    "    img = convertToImg(frame)\n",
    "    canvas.itemconfig(current_image, image=img)\n",
    "    window.after(100, updateImg)"
   ]
  },
  {
   "cell_type": "code",
   "execution_count": 10,
   "metadata": {
    "collapsed": true
   },
   "outputs": [],
   "source": [
    "updateImg()\n",
    "window.mainloop()\n",
    "vc.release()\n",
    "# while True:\n",
    "#     window.update_idletasks()\n",
    "#     window.update()"
   ]
  },
  {
   "cell_type": "code",
   "execution_count": null,
   "metadata": {
    "collapsed": true
   },
   "outputs": [],
   "source": []
  },
  {
   "cell_type": "code",
   "execution_count": null,
   "metadata": {},
   "outputs": [],
   "source": []
  },
  {
   "cell_type": "code",
   "execution_count": 12,
   "metadata": {
    "collapsed": true
   },
   "outputs": [],
   "source": [
    "y0 = 0\n",
    "y1 = 100\n",
    "x0 = 0\n",
    "x1 = 100"
   ]
  },
  {
   "cell_type": "code",
   "execution_count": 78,
   "metadata": {},
   "outputs": [
    {
     "name": "stdout",
     "output_type": "stream",
     "text": [
      "[ 190.  188.  195. ...,  165.  177.  162.]\n"
     ]
    }
   ],
   "source": [
    "encKey = AES.new('This is a key123', AES.MODE_CBC, 'This is an IV456')\n",
    "decKey = AES.new('This is a key123', AES.MODE_CBC, 'This is an IV456')\n",
    "enc = frame[y0:y1, x0:x1, :].reshape([-1])\n",
    "enc = np.concatenate([enc, np.zeros(len(enc)%16)])\n",
    "print(enc)\n",
    "val = encKey.encrypt(enc)\n",
    "    "
   ]
  },
  {
   "cell_type": "code",
   "execution_count": 19,
   "metadata": {},
   "outputs": [
    {
     "data": {
      "text/plain": [
       "35"
      ]
     },
     "execution_count": 19,
     "metadata": {},
     "output_type": "execute_result"
    }
   ],
   "source": [
    "np.random.choice(range(y0, y1))"
   ]
  },
  {
   "cell_type": "code",
   "execution_count": 11,
   "metadata": {},
   "outputs": [
    {
     "data": {
      "text/plain": [
       "array([[[114, 118, 117],\n",
       "        [116, 120, 119],\n",
       "        [118, 124, 124],\n",
       "        ..., \n",
       "        [ 28,  31,  41],\n",
       "        [ 26,  31,  36],\n",
       "        [ 22,  27,  32]],\n",
       "\n",
       "       [[111, 122, 114],\n",
       "        [111, 122, 114],\n",
       "        [115, 126, 122],\n",
       "        ..., \n",
       "        [ 25,  29,  43],\n",
       "        [ 20,  27,  40],\n",
       "        [ 17,  24,  37]],\n",
       "\n",
       "       [[112, 125, 117],\n",
       "        [112, 125, 117],\n",
       "        [113, 126, 118],\n",
       "        ..., \n",
       "        [ 26,  30,  44],\n",
       "        [ 20,  23,  42],\n",
       "        [ 16,  19,  38]],\n",
       "\n",
       "       ..., \n",
       "       [[ 74,  94,  98],\n",
       "        [ 74,  94,  98],\n",
       "        [ 72,  93, 101],\n",
       "        ..., \n",
       "        [ 23,  22,  33],\n",
       "        [ 24,  23,  34],\n",
       "        [ 25,  24,  35]],\n",
       "\n",
       "       [[ 61,  86,  96],\n",
       "        [ 61,  86,  96],\n",
       "        [ 54,  85,  90],\n",
       "        ..., \n",
       "        [ 25,  23,  39],\n",
       "        [ 26,  25,  36],\n",
       "        [ 26,  25,  36]],\n",
       "\n",
       "       [[ 58,  89,  94],\n",
       "        [ 57,  88,  93],\n",
       "        [ 54,  79,  89],\n",
       "        ..., \n",
       "        [ 26,  25,  36],\n",
       "        [ 27,  26,  35],\n",
       "        [ 27,  26,  35]]], dtype=uint8)"
      ]
     },
     "execution_count": 11,
     "metadata": {},
     "output_type": "execute_result"
    }
   ],
   "source": [
    "frame[y0:y1, x0:x1, :] = frame[y0:y1, x0:x1, :]"
   ]
  },
  {
   "cell_type": "code",
   "execution_count": null,
   "metadata": {
    "collapsed": true
   },
   "outputs": [],
   "source": []
  }
 ],
 "metadata": {
  "kernelspec": {
   "display_name": "Python 3",
   "language": "python",
   "name": "python3"
  },
  "language_info": {
   "codemirror_mode": {
    "name": "ipython",
    "version": 3
   },
   "file_extension": ".py",
   "mimetype": "text/x-python",
   "name": "python",
   "nbconvert_exporter": "python",
   "pygments_lexer": "ipython3",
   "version": "3.5.3"
  }
 },
 "nbformat": 4,
 "nbformat_minor": 2
}
