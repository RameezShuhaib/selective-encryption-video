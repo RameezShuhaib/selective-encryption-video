{
 "cells": [
  {
   "cell_type": "code",
   "execution_count": 244,
   "metadata": {
    "collapsed": true
   },
   "outputs": [],
   "source": [
    "import tkinter\n",
    "import numpy as np\n",
    "import cv2\n",
    "from PIL import Image\n",
    "from PIL import ImageTk\n",
    "from Crypto.Cipher import AES\n",
    "import copy\n",
    "import matplotlib.pyplot as plt\n",
    "import threading\n",
    "import time"
   ]
  },
  {
   "cell_type": "code",
   "execution_count": 245,
   "metadata": {
    "collapsed": true
   },
   "outputs": [],
   "source": [
    "clickCount = 0\n",
    "point = [(0, 0), (0, 0)]\n",
    "done = False"
   ]
  },
  {
   "cell_type": "code",
   "execution_count": null,
   "metadata": {
    "collapsed": true
   },
   "outputs": [],
   "source": []
  },
  {
   "cell_type": "code",
   "execution_count": 246,
   "metadata": {
    "collapsed": true
   },
   "outputs": [],
   "source": [
    "window = tkinter.Tk()\n",
    "canvas = tkinter.Canvas(window, width=600, height=600)\n",
    "codmov = tkinter.Label(window, text = '0 0')\n",
    "codclick = tkinter.Label(window, text = '0 0')\n",
    "codstatus = tkinter.Label(window, text = '[(0, 0), (0, 0)]')\n",
    "decButton = tkinter.Button(window, text = 'Decrypt Toggle', command = setDec)\n",
    "decryptFlag = False\n",
    "canvas.pack()\n",
    "codmov.pack()\n",
    "codclick.pack()\n",
    "codstatus.pack()\n",
    "decButton.pack()"
   ]
  },
  {
   "cell_type": "code",
   "execution_count": 247,
   "metadata": {},
   "outputs": [
    {
     "data": {
      "text/plain": [
       "'2284684455176motion'"
      ]
     },
     "execution_count": 247,
     "metadata": {},
     "output_type": "execute_result"
    }
   ],
   "source": [
    "def setDec():\n",
    "    global decryptFlag\n",
    "    decryptFlag = not decryptFlag\n",
    "    \n",
    "def encryptData(enc, sh):\n",
    "    x0, y0 = point[0]\n",
    "    x1, y1 = point[1]\n",
    "    r = enc[:, :, 0].reshape([-1])\n",
    "    g = enc[:, :, 1].reshape([-1])\n",
    "    b = enc[:, :, 2].reshape([-1])\n",
    "    nr, ng, nb = [], [], []\n",
    "    for i in sh:\n",
    "        nr.append(r[i])\n",
    "        ng.append(g[i])\n",
    "        nb.append(b[i])\n",
    "    nr = np.asarray(nr).reshape([y1-y0, x0-x1])\n",
    "    ng = np.asarray(ng).reshape([y1-y0, x0-x1])\n",
    "    nb = np.asarray(nb).reshape([y1-y0, x0-x1])\n",
    "    final = np.concatenate((np.expand_dims(nr, axis=-1), np.expand_dims(ng, axis=-1), np.expand_dims(nb, axis=-1)), axis=-1)\n",
    "    return final.astype(np.uint8)\n",
    "\n",
    "def decryptData(final, sh):\n",
    "    x0, y0 = point[0]\n",
    "    x1, y1 = point[1]\n",
    "    l = (y1-y0)*(x1-x0)\n",
    "    dr, dg, db = np.zeros([l]), np.zeros([l]), np.zeros([l])\n",
    "    rr = final[:, :, 0].reshape([-1])\n",
    "    gg = final[:, :, 1].reshape([-1])\n",
    "    bb = final[:, :, 2].reshape([-1])\n",
    "    j = 0\n",
    "    for i in sh:\n",
    "        dr[i] = rr[j]\n",
    "        dg[i] = gg[j]\n",
    "        db[i] = bb[j]\n",
    "        j += 1\n",
    "    dr = np.asarray(dr).reshape([y1-y0, x0-x1])\n",
    "    dg = np.asarray(dg).reshape([y1-y0, x0-x1])\n",
    "    db = np.asarray(db).reshape([y1-y0, x0-x1])\n",
    "    decfinal = np.concatenate((np.expand_dims(dr, axis=-1), np.expand_dims(dg, axis=-1), np.expand_dims(db, axis=-1)), axis=-1)\n",
    "    return decfinal.astype(np.uint8)\n",
    "\n",
    "def shuffle(l):\n",
    "    sh = np.arange(l)\n",
    "    np.random.shuffle(sh)\n",
    "    return sh\n",
    "\n",
    "def encryptFrame(frame):\n",
    "    x0, y0 = point[0]\n",
    "    x1, y1 = point[1]\n",
    "    \n",
    "    frame[y0:y1, x0:x1, :] = encryptData(frame[y0:y1, x0:x1, :], sh)\n",
    "    \n",
    "    return frame\n",
    "\n",
    "def decryptFrame(frame):\n",
    "    x0, y0 = point[0]\n",
    "    x1, y1 = point[1]\n",
    "    \n",
    "    frame[y0:y1, x0:x1, :] = decryptData(frame[y0:y1, x0:x1, :], sh)\n",
    "    \n",
    "    return frame\n",
    "\n",
    "    \n",
    "\n",
    "def motion(event):\n",
    "    global mouseX, mouseY\n",
    "    mouseX, mouseY = event.x, event.y\n",
    "    codmov.config(text = str(mouseX)+' '+ str(mouseY))\n",
    "    \n",
    "def mouseClick(event):\n",
    "    global clickX, clickY, clickCount, point, done, sh\n",
    "    clickX, clickY = event.x, event.y\n",
    "    if clickCount < 2:\n",
    "        point[clickCount] = (clickX, clickY)\n",
    "    else:\n",
    "        point = [(0, 0), (0, 0)]\n",
    "        done = False\n",
    "        \n",
    "    if clickCount == 1:\n",
    "        sh = shuffle((point[1][0]-point[0][0])*(point[1][1]-point[0][1]))\n",
    "        done = True\n",
    "        codstatus.config(text = str(point)+' Point Selected')\n",
    "    else:\n",
    "        done = False\n",
    "        codstatus.config(text = str(point))\n",
    "    \n",
    "    codclick.config(text = str(clickX)+' '+ str(clickY))\n",
    "    clickCount = (clickCount+1) % 3\n",
    "\n",
    "canvas.bind(\"<Button-1>\", mouseClick)\n",
    "canvas.bind('<Motion>', motion)"
   ]
  },
  {
   "cell_type": "code",
   "execution_count": 248,
   "metadata": {},
   "outputs": [],
   "source": [
    "vc = cv2.VideoCapture(0)\n",
    "\n",
    "if vc.isOpened():\n",
    "    is_capturing, frame = vc.read()\n",
    "    frame = cv2.cvtColor(frame, cv2.COLOR_BGR2RGB)\n",
    "else:\n",
    "    is_capturing = False"
   ]
  },
  {
   "cell_type": "code",
   "execution_count": 249,
   "metadata": {
    "collapsed": true
   },
   "outputs": [],
   "source": [
    "def convertToImg(frame):\n",
    "    img = Image.fromarray(frame)\n",
    "    img = ImageTk.PhotoImage(img)\n",
    "    return img"
   ]
  },
  {
   "cell_type": "code",
   "execution_count": 250,
   "metadata": {
    "collapsed": true
   },
   "outputs": [],
   "source": [
    "current_image = canvas.create_image((0, 0), anchor = tkinter.NW)"
   ]
  },
  {
   "cell_type": "code",
   "execution_count": 251,
   "metadata": {
    "collapsed": true
   },
   "outputs": [],
   "source": [
    "def updateImg():\n",
    "    global current_image, canvas, is_capturing, frame, img, done\n",
    "    is_capturing, frame = vc.read()\n",
    "    frame = cv2.cvtColor(frame, cv2.COLOR_BGR2RGB)\n",
    "    if done:\n",
    "        frame = encryptFrame(frame)\n",
    "        if decryptFlag:\n",
    "            frame = decryptFrame(frame)\n",
    "    img = convertToImg(frame)\n",
    "    canvas.itemconfig(current_image, image=img)\n",
    "    window.after(100, updateImg)"
   ]
  },
  {
   "cell_type": "code",
   "execution_count": 252,
   "metadata": {},
   "outputs": [],
   "source": [
    "updateImg()\n",
    "window.mainloop()\n",
    "vc.release()\n",
    "# while True:\n",
    "#     window.update_idletasks()\n",
    "#     window.update()"
   ]
  },
  {
   "cell_type": "code",
   "execution_count": 43,
   "metadata": {
    "collapsed": true
   },
   "outputs": [],
   "source": [
    "# vc.release()"
   ]
  },
  {
   "cell_type": "code",
   "execution_count": null,
   "metadata": {},
   "outputs": [],
   "source": []
  },
  {
   "cell_type": "code",
   "execution_count": null,
   "metadata": {},
   "outputs": [],
   "source": []
  },
  {
   "cell_type": "code",
   "execution_count": null,
   "metadata": {},
   "outputs": [],
   "source": []
  },
  {
   "cell_type": "code",
   "execution_count": null,
   "metadata": {},
   "outputs": [],
   "source": []
  },
  {
   "cell_type": "code",
   "execution_count": 157,
   "metadata": {},
   "outputs": [],
   "source": []
  },
  {
   "cell_type": "code",
   "execution_count": null,
   "metadata": {},
   "outputs": [],
   "source": []
  },
  {
   "cell_type": "code",
   "execution_count": null,
   "metadata": {},
   "outputs": [],
   "source": []
  },
  {
   "cell_type": "code",
   "execution_count": null,
   "metadata": {},
   "outputs": [],
   "source": []
  },
  {
   "cell_type": "code",
   "execution_count": null,
   "metadata": {},
   "outputs": [],
   "source": []
  },
  {
   "cell_type": "code",
   "execution_count": null,
   "metadata": {},
   "outputs": [],
   "source": []
  },
  {
   "cell_type": "code",
   "execution_count": null,
   "metadata": {
    "collapsed": true
   },
   "outputs": [],
   "source": []
  }
 ],
 "metadata": {
  "kernelspec": {
   "display_name": "Python 3",
   "language": "python",
   "name": "python3"
  },
  "language_info": {
   "codemirror_mode": {
    "name": "ipython",
    "version": 3
   },
   "file_extension": ".py",
   "mimetype": "text/x-python",
   "name": "python",
   "nbconvert_exporter": "python",
   "pygments_lexer": "ipython3",
   "version": "3.5.3"
  }
 },
 "nbformat": 4,
 "nbformat_minor": 2
}
